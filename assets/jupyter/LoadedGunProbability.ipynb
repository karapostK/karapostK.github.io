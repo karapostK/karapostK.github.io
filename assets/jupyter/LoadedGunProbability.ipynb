{
  "nbformat": 4,
  "nbformat_minor": 0,
  "metadata": {
    "colab": {
      "provenance": []
    },
    "kernelspec": {
      "name": "python3",
      "display_name": "Python 3"
    },
    "language_info": {
      "name": "python"
    }
  },
  "cells": [
    {
      "cell_type": "code",
      "execution_count": null,
      "metadata": {
        "id": "QwYpE4IhmjzC"
      },
      "outputs": [],
      "source": [
        "import numpy as np\n",
        "from matplotlib import pyplot as plt\n",
        "\n",
        "rng = np.random.default_rng(seed=42)"
      ]
    },
    {
      "cell_type": "markdown",
      "source": [
        "Loaded Gun can be a simple Python Tuple that 'wraps around' (last position is followed by the first position). Entries with 1 represent the bullet, 0 empty chamber."
      ],
      "metadata": {
        "id": "Epxpk2HInFt2"
      }
    },
    {
      "cell_type": "code",
      "source": [
        "loaded_gun = np.array((1,1,0,0,0,0))"
      ],
      "metadata": {
        "id": "fPEYbR9Jmyqr"
      },
      "execution_count": null,
      "outputs": []
    },
    {
      "cell_type": "markdown",
      "source": [
        "Let's now sample indexes (from 0 to 5) and see whether we survive"
      ],
      "metadata": {
        "id": "Y9luj2N-ngYG"
      }
    },
    {
      "cell_type": "code",
      "source": [
        "sampled_position = rng.integers(low=0,high=5)\n",
        "\n",
        "shoot = loaded_gun[sampled_position]\n",
        "\n",
        "if shoot:\n",
        "  print(\"BAM! You are dead! Sorry\")\n",
        "else:\n",
        "  print(\"Pheew, you survived!\")"
      ],
      "metadata": {
        "colab": {
          "base_uri": "https://localhost:8080/"
        },
        "id": "iz6P55I1nXB9",
        "outputId": "a7080ea4-8fd1-4199-aa11-d41eb22802d8"
      },
      "execution_count": null,
      "outputs": [
        {
          "output_type": "stream",
          "name": "stdout",
          "text": [
            "BAM! You are dead! Sorry\n"
          ]
        }
      ]
    },
    {
      "cell_type": "markdown",
      "source": [
        "Since we are drawing position at random, we would expect to die 2/6 of the times, so 1/3=0.3333"
      ],
      "metadata": {
        "id": "7OYZbPjRoF7l"
      }
    },
    {
      "cell_type": "code",
      "source": [
        "N_SAMPLES = 100000\n",
        "\n",
        "sampled_positions = rng.integers(low=0,high=6,size=N_SAMPLES)\n",
        "\n",
        "shoots = loaded_gun[sampled_positions]\n",
        "\n",
        "print(\"You died with a probability of roughly: \", sum(shoots)/len(shoots))"
      ],
      "metadata": {
        "colab": {
          "base_uri": "https://localhost:8080/"
        },
        "id": "6tTbuTYlnnpx",
        "outputId": "4a49e638-0d06-4e00-83c5-fb2f0f9e68d8"
      },
      "execution_count": null,
      "outputs": [
        {
          "output_type": "stream",
          "name": "stdout",
          "text": [
            "You died with a probability of roughly:  0.33169\n"
          ]
        }
      ]
    },
    {
      "cell_type": "markdown",
      "source": [
        "Now, if you do not rotate the cilinder, the random choice is only at the beginning. So depending on which index you end up at the starting position, you fate is decided.\n",
        "\n",
        "A nice way to calcuate this is to simply consider the loaded revolver as a flattened string (as we did before) and consider all possible shifting of the positions (again wrapping around). Since it's just 6 chambers, let's write down all the possibilites in terms of indexes:\n",
        "- *0,1,2,3,4,5*\n",
        "- *1,2,3,4,5,0*\n",
        "- 2,3,4,5,0,1\n",
        "- 3,4,5,0,1,2\n",
        "- 4,5,0,1,2,3\n",
        "- *5,0,1,2,3,4*\n",
        "If you consider shotting only on the first two positions, it becomes clear that in 3 cases over 6 you die. So the probability of surviving is simple 1/2 = 0.5"
      ],
      "metadata": {
        "id": "EB86ATDrqhgg"
      }
    },
    {
      "cell_type": "code",
      "source": [
        "N_SAMPLES = 100000\n",
        "\n",
        "sampled_first_shoots = rng.integers(low=0,high=6,size=N_SAMPLES)\n",
        "second_shoots = (sampled_first_shoots + 1) % 6 # added the mod operation to wrap around\n",
        "\n",
        "shoots = loaded_gun[sampled_first_shoots] + loaded_gun[second_shoots]\n",
        "\n",
        "survive = shoots == 0\n",
        "\n",
        "print(\"You survived with a probability of roughly: \", sum(survive)/len(survive))"
      ],
      "metadata": {
        "colab": {
          "base_uri": "https://localhost:8080/"
        },
        "id": "jqcZsiTDoqW1",
        "outputId": "6e08aac8-7b1b-4d7c-de07-27f8c3887ec5"
      },
      "execution_count": null,
      "outputs": [
        {
          "output_type": "stream",
          "name": "stdout",
          "text": [
            "You survived with a probability of roughly:  0.50164\n"
          ]
        }
      ]
    },
    {
      "cell_type": "markdown",
      "source": [
        "Another way to get to the same results is using conditional probabilties\n",
        "P(surviving) = P(surviving the first shoot)(surviving the second shoot| having survived the first shoot)\n",
        "\n",
        "The frist probabilitiy is simple 4/6 so 2/3\n",
        "The second probability depends thanks to which slot we survived the first shoot.\n",
        "Going back to loaded_gun 1,1,0,0,0,0\n",
        "We can see that if we survived with index 2,3,4 then we are going to survive also the second shot. If we got index 5, the next one is going to be a bullet so we die.\n",
        "The probability is then 3/4\n",
        "\n",
        "Multiplying these together:\n",
        "2/3 * 3/4 = 1/2 as expected"
      ],
      "metadata": {
        "id": "HaymD0CYsXhy"
      }
    },
    {
      "cell_type": "markdown",
      "source": [
        "What if we rotate though?\n",
        "\n",
        "Well, now each shoot is independent of each other. We can use simple product of probabilites in this case\n",
        "\n",
        "P(surviving) = P(survive #1 shoot) * P(survive #2 shoot)\n",
        "\n",
        "Again, since the position is at random, in each case we survive with a probability of 2/3 so the total probability is\n",
        "\n",
        "P(surviving) = 2/3 * 2/3 = 4/9 = 0.4444"
      ],
      "metadata": {
        "id": "ugBNLT0TtLeJ"
      }
    },
    {
      "cell_type": "code",
      "source": [
        "N_SAMPLES = 100000\n",
        "\n",
        "sampled_first_shoots = rng.integers(low=0,high=6,size=N_SAMPLES)\n",
        "sampled_second_shoots = rng.integers(low=0,high=6,size=N_SAMPLES)\n",
        "\n",
        "shoots = loaded_gun[sampled_first_shoots] + loaded_gun[sampled_second_shoots]\n",
        "\n",
        "survive = shoots == 0\n",
        "\n",
        "print(\"You survived with a probability of roughly: \", sum(survive)/len(survive))"
      ],
      "metadata": {
        "colab": {
          "base_uri": "https://localhost:8080/"
        },
        "id": "oD3mMaTIorNC",
        "outputId": "cd995995-210e-405d-ab1c-b829c770850e"
      },
      "execution_count": null,
      "outputs": [
        {
          "output_type": "stream",
          "name": "stdout",
          "text": [
            "You survived with a probability of roughly:  0.44456\n"
          ]
        }
      ]
    },
    {
      "cell_type": "markdown",
      "source": [
        "Which is less of not rotating the cilinder.\n",
        "Well you know what this means"
      ],
      "metadata": {
        "id": "YcYbDgM_uHQB"
      }
    },
    {
      "cell_type": "markdown",
      "source": [
        "If someone hands you a gun, just shoot twice without rotating in between"
      ],
      "metadata": {
        "id": "JTLDwa-AuO8b"
      }
    }
  ]
}