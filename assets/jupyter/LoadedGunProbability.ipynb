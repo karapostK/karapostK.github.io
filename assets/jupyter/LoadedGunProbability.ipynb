{
 "nbformat": 4,
 "nbformat_minor": 0,
 "metadata": {
  "colab": {
   "provenance": []
  },
  "kernelspec": {
   "name": "python3",
   "display_name": "Python 3"
  },
  "language_info": {
   "name": "python"
  }
 },
 "cells": [
  {
   "cell_type": "code",
   "metadata": {
    "id": "QwYpE4IhmjzC",
    "jupyter": {
     "is_executing": true
    }
   },
   "source": [
    "import numpy as np\n",
    "\n",
    "N_SAMPLES = 100000\n",
    "\n",
    "rng = np.random.default_rng(seed=42)\n",
    "loaded_gun = np.array((1,1,0,0,0,0))"
   ],
   "outputs": [],
   "execution_count": null
  },
  {
   "cell_type": "markdown",
   "source": [
    "Let's now sample indexes (from 0 to 5) and see whether we survive"
   ],
   "metadata": {
    "id": "Y9luj2N-ngYG"
   }
  },
  {
   "cell_type": "code",
   "source": [
    "sampled_position = rng.integers(low=0,high=5)\n",
    "\n",
    "shoot = loaded_gun[sampled_position]\n",
    "\n",
    "if shoot:\n",
    "  print(\"BAM! You are dead! Sorry\")\n",
    "else:\n",
    "  print(\"Pheew, you survived!\")"
   ],
   "metadata": {
    "colab": {
     "base_uri": "https://localhost:8080/"
    },
    "id": "iz6P55I1nXB9",
    "outputId": "a7080ea4-8fd1-4199-aa11-d41eb22802d8"
   },
   "execution_count": null,
   "outputs": [
    {
     "output_type": "stream",
     "name": "stdout",
     "text": [
      "BAM! You are dead! Sorry\n"
     ]
    }
   ]
  },
  {
   "cell_type": "markdown",
   "source": "Since we are drawing position at random, we would expect to die $\\frac{2}{6}$ of the times, so $33\\%$",
   "metadata": {
    "id": "7OYZbPjRoF7l"
   }
  },
  {
   "cell_type": "code",
   "source": [
    "sampled_positions = rng.integers(low=0,high=6,size=N_SAMPLES)\n",
    "\n",
    "shoots = loaded_gun[sampled_positions]\n",
    "\n",
    "print(\"You died with a probability of roughly: \", sum(shoots)/len(shoots))"
   ],
   "metadata": {
    "colab": {
     "base_uri": "https://localhost:8080/"
    },
    "id": "6tTbuTYlnnpx",
    "outputId": "4a49e638-0d06-4e00-83c5-fb2f0f9e68d8"
   },
   "execution_count": null,
   "outputs": [
    {
     "output_type": "stream",
     "name": "stdout",
     "text": [
      "You died with a probability of roughly:  0.33169\n"
     ]
    }
   ]
  },
  {
   "metadata": {},
   "cell_type": "markdown",
   "source": "## Option 1: Rotating the Cylinder"
  },
  {
   "metadata": {},
   "cell_type": "code",
   "outputs": [
    {
     "name": "stdout",
     "output_type": "stream",
     "text": [
      "You survived with a probability of roughly:  0.44456\n"
     ]
    }
   ],
   "execution_count": null,
   "source": [
    "sampled_first_shoots = rng.integers(low=0,high=6,size=N_SAMPLES)\n",
    "sampled_second_shoots = rng.integers(low=0,high=6,size=N_SAMPLES)\n",
    "\n",
    "shoots = loaded_gun[sampled_first_shoots] + loaded_gun[sampled_second_shoots]\n",
    "\n",
    "survive = shoots == 0\n",
    "\n",
    "print(\"You survived with a probability of roughly: \", sum(survive)/len(survive))"
   ]
  },
  {
   "cell_type": "markdown",
   "source": "## Option 2: Not rotating the Cylinder",
   "metadata": {
    "id": "EB86ATDrqhgg"
   }
  },
  {
   "cell_type": "code",
   "source": [
    "sampled_first_shoots = rng.integers(low=0,high=6,size=N_SAMPLES)\n",
    "second_shoots = (sampled_first_shoots + 1) % 6 # added the mod operation to wrap around\n",
    "\n",
    "shoots = loaded_gun[sampled_first_shoots] + loaded_gun[second_shoots]\n",
    "\n",
    "survive = shoots == 0\n",
    "\n",
    "print(\"You survived with a probability of roughly: \", sum(survive)/len(survive))"
   ],
   "metadata": {
    "colab": {
     "base_uri": "https://localhost:8080/"
    },
    "id": "jqcZsiTDoqW1",
    "outputId": "6e08aac8-7b1b-4d7c-de07-27f8c3887ec5"
   },
   "execution_count": null,
   "outputs": [
    {
     "output_type": "stream",
     "name": "stdout",
     "text": [
      "You survived with a probability of roughly:  0.50164\n"
     ]
    }
   ]
  }
 ]
}
